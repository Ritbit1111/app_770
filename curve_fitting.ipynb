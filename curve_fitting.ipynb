{
 "cells": [
  {
   "cell_type": "code",
   "execution_count": 70,
   "metadata": {},
   "outputs": [],
   "source": [
    "from scipy.optimize import curve_fit\n",
    "import matplotlib.pyplot as plt"
   ]
  },
  {
   "cell_type": "markdown",
   "metadata": {},
   "source": [
    "<h2>A hack to make our implicit equation to explicit form</h2>"
   ]
  },
  {
   "cell_type": "code",
   "execution_count": 71,
   "metadata": {},
   "outputs": [],
   "source": [
    "def getI(V, Rs, Rsh, Isat, Iph, eta):\n",
    "    \"\"\"\n",
    "    This function will generate cuurent for given voltage given 5 diode parameters    \n",
    "    \"\"\"\n",
    "    kb = 1.38*10**(-23) #Boltzmann constant\n",
    "        \n",
    "    Temp = 25\n",
    "    kb = 1.38*10**(-23) #Boltzmann constant\n",
    "    q = 1.6*10**(-19)\n",
    "    Vt = kb*(Temp+273)/q\n",
    "    Ncell = 72\n",
    "    \n",
    "    I_implicit_equn = lambda i: -i + Iph - Isat*(np.exp((v+i*Rs) / (eta*Ncell*Vt))-1) - (v+i*Rs)/Rsh\n",
    "    I=[]\n",
    "    \n",
    "    # If V is not vector, then I should be returned accordingly\n",
    "    if (type(V)==int or type(V)==float):\n",
    "        v=V\n",
    "        i_solution = root(I_implicit_equn,10)\n",
    "        i = i_solution.x[0]\n",
    "        return (i)\n",
    "    \n",
    "    # If V is a vector, return a vector\n",
    "    for v in V:\n",
    "        i_solution = root(I_implicit_equn,10)\n",
    "        i = i_solution.x[0]\n",
    "        I.append(i)\n",
    "    return (np.array(I))"
   ]
  },
  {
   "cell_type": "code",
   "execution_count": 72,
   "metadata": {},
   "outputs": [
    {
     "name": "stdout",
     "output_type": "stream",
     "text": [
      "7.5488073329862475\n"
     ]
    }
   ],
   "source": [
    "diode_param = (0.3551735739069161, 20051.491203008736, 2.9778179325966427e-10, 9.250163845946686, 1.0266558791833786)\n",
    "print(getI(40, *diode_param))"
   ]
  },
  {
   "cell_type": "markdown",
   "metadata": {},
   "source": [
    "<h2>Now generating data that is going to be fitted in the next step</h2>"
   ]
  },
  {
   "cell_type": "code",
   "execution_count": 73,
   "metadata": {},
   "outputs": [
    {
     "data": {
      "text/plain": [
       "[<matplotlib.lines.Line2D at 0x7f0361529198>]"
      ]
     },
     "execution_count": 73,
     "metadata": {},
     "output_type": "execute_result"
    },
    {
     "data": {
      "image/png": "[encoded data removed]",
      "text/plain": [
       "<Figure size 432x288 with 1 Axes>"
      ]
     },
     "metadata": {
      "needs_background": "light"
     },
     "output_type": "display_data"
    }
   ],
   "source": [
    "# xdata is V vector from 0 to 46V of size 100\n",
    "xdata=np.linspace(0,46,100)\n",
    "#Using getI function to calculate I as ydata\n",
    "ydata = getI(xdata, *diode_param)\n",
    "plt.plot(xdata, ydata, 'b-', label='data')"
   ]
  },
  {
   "cell_type": "markdown",
   "metadata": {},
   "source": [
    "<h2>Now fitting our generated ydata to getI function</h2>"
   ]
  },
  {
   "cell_type": "code",
   "execution_count": 74,
   "metadata": {},
   "outputs": [
    {
     "name": "stdout",
     "output_type": "stream",
     "text": [
      "[  1.28079103  43.13711546 -12.36841986  -4.68471043  19.84137814]\n"
     ]
    },
    {
     "data": {
      "text/plain": [
       "[<matplotlib.lines.Line2D at 0x7f03615b4dd8>]"
      ]
     },
     "execution_count": 74,
     "metadata": {},
     "output_type": "execute_result"
    },
    {
     "data": {
      "image/png": "[encoded data removed]",
      "text/plain": [
       "<Figure size 432x288 with 1 Axes>"
      ]
     },
     "metadata": {
      "needs_background": "light"
     },
     "output_type": "display_data"
    }
   ],
   "source": [
    "popt, pcov = curve_fit(getI, xdata, ydata)\n",
    "print (popt) # parameters\n",
    "plt.plot(xdata, ydata, 'b-', label='data') #Original plot\n",
    "plt.plot(xdata, getI(xdata, *popt), 'r-')"
   ]
  }
 ],
 "metadata": {
  "kernelspec": {
   "display_name": "Python 3.6.9 64-bit",
   "language": "python",
   "name": "python36964bita5d7c028e8b54a73bbda9cc7c7b79e76"
  },
  "language_info": {
   "codemirror_mode": {
    "name": "ipython",
    "version": 3
   },
   "file_extension": ".py",
   "mimetype": "text/x-python",
   "name": "python",
   "nbconvert_exporter": "python",
   "pygments_lexer": "ipython3",
   "version": "3.6.9"
  }
 },
 "nbformat": 4,
 "nbformat_minor": 2
}
