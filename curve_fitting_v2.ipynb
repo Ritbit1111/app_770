{
 "cells": [
  {
   "cell_type": "code",
   "execution_count": 2,
   "metadata": {},
   "outputs": [],
   "source": [
    "from scipy.optimize import curve_fit, root\n",
    "import matplotlib.pyplot as plt\n",
    "import numpy as np"
   ]
  },
  {
   "cell_type": "markdown",
   "metadata": {},
   "source": [
    "<h2>A hack to make our implicit equation to explicit form</h2>"
   ]
  },
  {
   "cell_type": "code",
   "execution_count": 4,
   "metadata": {},
   "outputs": [],
   "source": [
    "def getI(V, *params):\n",
    "    \"\"\"\n",
    "    This function will generate cuurent for given voltage given 5 diode parameters    \n",
    "    \"\"\"\n",
    "    kb = 1.38*10**(-23) #Boltzmann constant\n",
    "        \n",
    "    Temp = 25\n",
    "    kb = 1.38*10**(-23) #Boltzmann constant\n",
    "    q = 1.6*10**(-19)\n",
    "    Vt = kb*(Temp+273)/q\n",
    "    Ncell = 72\n",
    "    \n",
    "    \n",
    "    Rs, Rsh, Isat, Iph, eta = params\n",
    "    \n",
    "    I_implicit_equn = lambda i: -i + Iph - Isat*(np.exp((v+i*Rs) / (eta*Ncell*Vt))-1) - (v+i*Rs)/Rsh\n",
    "    I=[]\n",
    "    \n",
    "    '''Now we will find the root if the implicit equation to get the value of i'''\n",
    "    \n",
    "    for v in V:\n",
    "        i_solution = root(I_implicit_equn,10)\n",
    "        i = i_solution.x[0]\n",
    "        I.append(i)\n",
    "    return (np.array(I))"
   ]
  },
  {
   "cell_type": "markdown",
   "metadata": {},
   "source": [
    "<h2>Testing the getI function </h2>"
   ]
  },
  {
   "cell_type": "code",
   "execution_count": 5,
   "metadata": {},
   "outputs": [
    {
     "name": "stdout",
     "output_type": "stream",
     "text": [
      "[7.54880733]\n"
     ]
    }
   ],
   "source": [
    "diode_param = (0.3551735739069161, 20051.491203008736, 2.9778179325966427e-10, 9.250163845946686, 1.0266558791833786)\n",
    "print(getI([40], *diode_param))"
   ]
  },
  {
   "cell_type": "markdown",
   "metadata": {},
   "source": [
    "<h2>Now generating data that is going to be fitted in the next step</h2>"
   ]
  },
  {
   "cell_type": "code",
   "execution_count": 6,
   "metadata": {},
   "outputs": [
    {
     "data": {
      "text/plain": [
       "[<matplotlib.lines.Line2D at 0x7f93ed19fb00>]"
      ]
     },
     "execution_count": 6,
     "metadata": {},
     "output_type": "execute_result"
    },
    {
     "data": {
      "image/png": "[encoded data removed]",
      "text/plain": [
       "<Figure size 432x288 with 1 Axes>"
      ]
     },
     "metadata": {
      "needs_background": "light"
     },
     "output_type": "display_data"
    }
   ],
   "source": [
    "datasize=1000\n",
    "# xdata is V vector from 0 to 46V of size 100\n",
    "xdata=np.linspace(0,46,datasize)\n",
    "#Using getI function to calculate I as ydata\n",
    "ydata = getI(xdata, *diode_param)\n",
    "plt.plot(xdata, ydata, 'b-', label='data')"
   ]
  },
  {
   "cell_type": "code",
   "execution_count": 7,
   "metadata": {},
   "outputs": [],
   "source": [
    "noise = np.random.normal(0,0.05,datasize)"
   ]
  },
  {
   "cell_type": "code",
   "execution_count": 8,
   "metadata": {},
   "outputs": [
    {
     "data": {
      "text/plain": [
       "<matplotlib.legend.Legend at 0x7f93ecc6ae48>"
      ]
     },
     "execution_count": 8,
     "metadata": {},
     "output_type": "execute_result"
    },
    {
     "data": {
      "image/png": "[encoded data removed]",
      "text/plain": [
       "<Figure size 432x288 with 1 Axes>"
      ]
     },
     "metadata": {
      "needs_background": "light"
     },
     "output_type": "display_data"
    }
   ],
   "source": [
    "initial_guess=(0.5, 500, 1e-10, 9, 1) # A very generic initial guess\n",
    "short_x = xdata[400:900]\n",
    "short_y = ydata[400:900]+noise[400:900]\n",
    "plt.plot(short_x, short_y, 'b-', label='short data')\n",
    "plt.plot(xdata, ydata, 'g--', label='Full data')\n",
    "plt.legend()"
   ]
  },
  {
   "cell_type": "markdown",
   "metadata": {},
   "source": [
    "<h2>Now fitting our shortened data to getI function</h2>"
   ]
  },
  {
   "cell_type": "code",
   "execution_count": null,
   "metadata": {},
   "outputs": [],
   "source": [
    "popt, pcov = curve_fit(getI, short_x, short_y, initial_guess)\n",
    "print (popt) # parameters"
   ]
  },
  {
   "cell_type": "markdown",
   "metadata": {},
   "source": [
    "<h2>Plotting the shortend data as well as predicted one</h2>"
   ]
  },
  {
   "cell_type": "code",
   "execution_count": 37,
   "metadata": {},
   "outputs": [
    {
     "data": {
      "image/png": "[encoded data removed]",
      "text/plain": [
       "<Figure size 432x288 with 1 Axes>"
      ]
     },
     "metadata": {
      "needs_background": "light"
     },
     "output_type": "display_data"
    }
   ],
   "source": [
    "plt.plot(short_x, short_y, 'bo', label='Original I-V') #Original plot\n",
    "plt.plot(xdata, getI(xdata, *popt), 'r-', label='Fitted curve')\n",
    "plt.legend()\n",
    "plt.grid()"
   ]
  }
 ],
 "metadata": {
  "kernelspec": {
   "display_name": "Python 3.6.9 64-bit",
   "language": "python",
   "name": "python36964bita5d7c028e8b54a73bbda9cc7c7b79e76"
  },
  "language_info": {
   "codemirror_mode": {
    "name": "ipython",
    "version": 3
   },
   "file_extension": ".py",
   "mimetype": "text/x-python",
   "name": "python",
   "nbconvert_exporter": "python",
   "pygments_lexer": "ipython3",
   "version": "3.6.9"
  }
 },
 "nbformat": 4,
 "nbformat_minor": 2
}
